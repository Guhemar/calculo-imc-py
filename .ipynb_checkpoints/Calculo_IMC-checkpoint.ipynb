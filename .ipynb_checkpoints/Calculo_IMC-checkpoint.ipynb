{
 "cells": [
  {
   "cell_type": "markdown",
   "id": "2794565c",
   "metadata": {},
   "source": [
    "# Entrada de dados\n",
    "### Nome, altura e peso"
   ]
  },
  {
   "cell_type": "code",
   "execution_count": null,
   "id": "0f2ca81d",
   "metadata": {},
   "outputs": [],
   "source": [
    "nome_aluno = str(input(\"Digite o nome do aluno: \"))\n",
    "altura = float(input(\"Qual é a altura? \"))\n",
    "peso = float(input(\"Qual é o peso? \"))"
   ]
  },
  {
   "cell_type": "markdown",
   "id": "d1a628eb",
   "metadata": {},
   "source": [
    "## Validação dos dados"
   ]
  },
  {
   "cell_type": "code",
   "execution_count": null,
   "id": "4d5908ea",
   "metadata": {},
   "outputs": [],
   "source": [
    "while peso <=0 or altura <=0:\n",
    "  print(\"A altura ou o peso é inválido, certifique-se que digitou corretamente.\")\n",
    "  altura = float(input(\"Qual é a altura? \"))\n",
    "  peso = float(input(\"Qual é o peso? \"))"
   ]
  },
  {
   "cell_type": "markdown",
   "id": "86deff18",
   "metadata": {},
   "source": [
    "## Cálculo e arredondando o valor"
   ]
  },
  {
   "cell_type": "code",
   "execution_count": null,
   "id": "0b5b26a8",
   "metadata": {},
   "outputs": [],
   "source": [
    "calculo_imc = peso/pow(altura, 2)\n",
    "calculo_arredondado = round(calculo_imc, 2)"
   ]
  },
  {
   "cell_type": "markdown",
   "id": "23ad72b0",
   "metadata": {},
   "source": [
    "## Instalação da biblioteca pdf"
   ]
  },
  {
   "cell_type": "code",
   "execution_count": null,
   "id": "c555bbe9",
   "metadata": {
    "scrolled": false
   },
   "outputs": [],
   "source": [
    "!pip install fpdf"
   ]
  },
  {
   "cell_type": "markdown",
   "id": "1671641e",
   "metadata": {},
   "source": [
    "## Definindo número de páginas e fonte"
   ]
  },
  {
   "cell_type": "code",
   "execution_count": null,
   "id": "5e6f8ac0",
   "metadata": {},
   "outputs": [],
   "source": [
    "from fpdf import FPDF\n",
    "pdf = FPDF ()\n",
    "pdf.add_page ()\n",
    "pdf.set_font(\"Arial\")"
   ]
  },
  {
   "cell_type": "markdown",
   "id": "f3680d41",
   "metadata": {},
   "source": [
    "## Colocando os dados no template e na posição ordenada"
   ]
  },
  {
   "cell_type": "code",
   "execution_count": null,
   "id": "7008e081",
   "metadata": {},
   "outputs": [],
   "source": [
    "# utilizando um template\n",
    "pdf.image(\"template.png\", x=0, y=0 )\n",
    "\n",
    "# inserindo os dados do projeto\n",
    "pdf.text(70, 127, nome_aluno)\n",
    "pdf.text(70, 138, str(peso))\n",
    "pdf.text(70, 149, str(altura))\n",
    "pdf.text(70, 160, str(calculo_arredondado))"
   ]
  },
  {
   "cell_type": "markdown",
   "id": "7aae7b26",
   "metadata": {},
   "source": [
    "## Gera o pdf"
   ]
  },
  {
   "cell_type": "code",
   "execution_count": null,
   "id": "e16a3068",
   "metadata": {},
   "outputs": [],
   "source": [
    "pdf.output(\"calculo.pdf\")\n",
    "print(\"Cálculo foi gerado com sucesso!\")"
   ]
  }
 ],
 "metadata": {
  "kernelspec": {
   "display_name": "Python 3 (ipykernel)",
   "language": "python",
   "name": "python3"
  },
  "language_info": {
   "codemirror_mode": {
    "name": "ipython",
    "version": 3
   },
   "file_extension": ".py",
   "mimetype": "text/x-python",
   "name": "python",
   "nbconvert_exporter": "python",
   "pygments_lexer": "ipython3",
   "version": "3.11.5"
  }
 },
 "nbformat": 4,
 "nbformat_minor": 5
}
